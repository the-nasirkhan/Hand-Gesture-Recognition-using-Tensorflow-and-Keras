{
 "cells": [
  {
   "cell_type": "markdown",
   "id": "4face474",
   "metadata": {},
   "source": [
    "# Hand Gesture Recognition\n"
   ]
  },
  {
   "cell_type": "markdown",
   "id": "d5f165f9",
   "metadata": {},
   "source": [
    "The original MNIST image dataset of handwritten digits is a popular benchmark for image-based machine learning methods but researchers have renewed efforts to update it and develop drop-in replacements that are more challenging for computer vision and original for real-world applications. As noted in one recent replacement called the Fashion-MNIST dataset, the Zalando researchers quoted the startling claim that \"Most pairs of MNIST digits (784 total pixels per sample) can be distinguished pretty well by just one pixel\". To stimulate the community to develop more drop-in replacements, the Sign Language MNIST is presented here and follows the same CSV format with labels and pixel values in single rows. The American Sign Language letter database of hand gestures represent a multi-class problem with 24 classes of letters (excluding J and Z which require motion).\n",
    "\n",
    "The dataset format is patterned to match closely with the classic MNIST. Each training and test case represents a label (0-25) as a one-to-one map for each alphabetic letter A-Z (and no cases for 9=J or 25=Z because of gesture motions). The training data (27,455 cases) and test data (7172 cases) are approximately half the size of the standard MNIST but otherwise similar with a header row of label, pixel1,pixel2….pixel784 which represent a single 28x28 pixel image with grayscale values between 0-255. The original hand gesture image data represented multiple users repeating the gesture against different backgrounds. The Sign Language MNIST data came from greatly extending the small number (1704) of the color images included as not cropped around the hand region of interest. To create new data, an image pipeline was used based on ImageMagick and included cropping to hands-only, gray-scaling, resizing, and then creating at least 50+ variations to enlarge the quantity. The modification and expansion strategy was filters ('Mitchell', 'Robidoux', 'Catrom', 'Spline', 'Hermite'), along with 5% random pixelation, +/- 15% brightness/contrast, and finally 3 degrees rotation. Because of the tiny size of the images, these modifications effectively alter the resolution and class separation in interesting, controllable ways.\n",
    "\n",
    "This dataset was inspired by the Fashion-MNIST 2 and the machine learning pipeline for gestures by Sreehari 4.\n",
    "\n",
    "A robust visual recognition algorithm could provide not only new benchmarks that challenge modern machine learning methods such as Convolutional Neural Nets but also could pragmatically help the deaf and hard-of-hearing better communicate using computer vision applications. The National Institute on Deafness and other Communications Disorders (NIDCD) indicates that the 200-year-old American Sign Language is a complete, complex language (of which letter gestures are only part) but is the primary language for many deaf North Americans. ASL is the leading minority language in the U.S. after the \"big four\": Spanish, Italian, German, and French. One could implement computer vision in an inexpensive board computer like Raspberry Pi with OpenCV, and some Text-to-Speech to enabling improved and automated translation applications.\n",
    "\n",
    "\n",
    "**Source = [Kaggle](https://www.kaggle.com/datamunge/sign-language-mnist)**"
   ]
  },
  {
   "cell_type": "markdown",
   "id": "afe05dcd",
   "metadata": {},
   "source": [
    "### Import Necessary Libraries"
   ]
  },
  {
   "cell_type": "code",
   "execution_count": 1,
   "id": "81767034",
   "metadata": {},
   "outputs": [],
   "source": [
    "import pandas as pd\n",
    "import numpy as np\n",
    "import matplotlib.pyplot as plt\n",
    "import keras\n",
    "from keras.models import Sequential\n",
    "from keras.layers import Dense, Conv2D , MaxPool2D , Flatten , Dropout , BatchNormalization\n",
    "from keras.preprocessing.image import ImageDataGenerator\n",
    "from sklearn.preprocessing import LabelBinarizer\n",
    "from sklearn.model_selection import train_test_split\n",
    "from sklearn.metrics import classification_report,confusion_matrix\n",
    "from keras.callbacks import ReduceLROnPlateau"
   ]
  },
  {
   "cell_type": "code",
   "execution_count": 3,
   "id": "08377400",
   "metadata": {},
   "outputs": [],
   "source": [
    "import os"
   ]
  },
  {
   "cell_type": "markdown",
   "id": "8d6aecb6",
   "metadata": {},
   "source": [
    "### Load Dataset"
   ]
  },
  {
   "cell_type": "code",
   "execution_count": 5,
   "id": "e6f2296a",
   "metadata": {},
   "outputs": [],
   "source": [
    "test_df = pd.read_csv(\"sign_mnist_test.csv\")\n",
    "train_df = pd.read_csv(\"sign_mnist_train.csv\")"
   ]
  },
  {
   "cell_type": "code",
   "execution_count": 14,
   "id": "6626125b",
   "metadata": {},
   "outputs": [],
   "source": [
    "def show_img(img, df):\n",
    "    \n",
    "    #Take the label\n",
    "    label = test_df[\"label\"][img]\n",
    "    \n",
    "    #Take the pixels\n",
    "    pixels = test_df.iloc[img, 1:]\n",
    "    \n",
    "    #The pixel intensity values are integers from 0 to 255\n",
    "    pixels = np.array(pixels, dtype='uint8')\n",
    "    \n",
    "    #Reshape the array into 28x28 array (2-dimensional array)\n",
    "    pixels = pixels.reshape((28, 28))\n",
    "    \n",
    "    #Plot\n",
    "    plt.title(\"Label Is {label}\".format(label=label))\n",
    "    plt.imshow(pixels, cmap='gray')\n",
    "    plt.show()"
   ]
  },
  {
   "cell_type": "code",
   "execution_count": 21,
   "id": "3270b177",
   "metadata": {},
   "outputs": [
    {
     "data": {
      "image/png": "[encoded data removed]",
      "text/plain": [
       "<Figure size 432x288 with 1 Axes>"
      ]
     },
     "metadata": {
      "needs_background": "light"
     },
     "output_type": "display_data"
    }
   ],
   "source": [
    "show_img(50,test_df)"
   ]
  },
  {
   "cell_type": "code",
   "execution_count": 23,
   "id": "b49f53b6",
   "metadata": {},
   "outputs": [],
   "source": [
    "#Extract Labels\n",
    "y_train = train_df['label']\n",
    "y_test = test_df['label']\n",
    "del train_df['label']\n",
    "del test_df['label']"
   ]
  },
  {
   "cell_type": "code",
   "execution_count": 25,
   "id": "964b485c",
   "metadata": {},
   "outputs": [],
   "source": [
    "#Label Binarizer\n",
    "\n",
    "label_binarizer = LabelBinarizer()\n",
    "y_train = label_binarizer.fit_transform(y_train)\n",
    "y_test = label_binarizer.fit_transform(y_test)"
   ]
  },
  {
   "cell_type": "code",
   "execution_count": 26,
   "id": "20cce413",
   "metadata": {},
   "outputs": [],
   "source": [
    "x_train = train_df.values\n",
    "x_test = test_df.values"
   ]
  },
  {
   "cell_type": "code",
   "execution_count": 27,
   "id": "666740b7",
   "metadata": {},
   "outputs": [],
   "source": [
    "#Normalization\n",
    "\n",
    "x_train = x_train/255\n",
    "x_test = x_test/255"
   ]
  },
  {
   "cell_type": "code",
   "execution_count": 28,
   "id": "14a71fd4",
   "metadata": {},
   "outputs": [],
   "source": [
    "#Reshape\n",
    "x_train = x_train.reshape(-1,28,28,1)\n",
    "x_test = x_test.reshape(-1,28,28,1)"
   ]
  },
  {
   "cell_type": "code",
   "execution_count": 29,
   "id": "a4844984",
   "metadata": {},
   "outputs": [],
   "source": [
    "# Data Augmentation\n",
    "\n",
    "data_generator = ImageDataGenerator(\n",
    "    featurewise_center = False,\n",
    "    samplewise_center = False,\n",
    "    featurewise_std_normalization = False,\n",
    "    samplewise_std_normalization = False,\n",
    "    zca_whitening = False,\n",
    "    rotation_range = 10,\n",
    "    zoom_range = 0.1,\n",
    "    width_shift_range = 0.1,\n",
    "    height_shift_range = 0.1,\n",
    "    horizontal_flip = False,\n",
    "    vertical_flip = False\n",
    "\n",
    ")\n",
    "\n",
    "data_generator.fit(x_train)"
   ]
  },
  {
   "cell_type": "markdown",
   "id": "235f7007",
   "metadata": {},
   "source": [
    "### Build Model"
   ]
  },
  {
   "cell_type": "code",
   "execution_count": 30,
   "id": "01f1b213",
   "metadata": {},
   "outputs": [],
   "source": [
    "model=Sequential()\n",
    "model.add(Conv2D(75,(3,3),strides=1,padding='same',activation='relu',input_shape=(28,28,1)))\n",
    "model.add(BatchNormalization())\n",
    "model.add(MaxPool2D((2,2),strides=2,padding='same'))\n",
    "model.add(Conv2D(50,(3,3),strides=1,padding='same',activation='relu'))\n",
    "model.add(Dropout(0.2))\n",
    "model.add(BatchNormalization())\n",
    "model.add(MaxPool2D((2,2),strides=2,padding='same'))\n",
    "model.add(Conv2D(25,(3,3),strides=1,padding='same',activation='relu'))\n",
    "model.add(BatchNormalization())\n",
    "model.add(MaxPool2D((2,2),strides=2,padding='same'))\n",
    "model.add(Flatten())\n",
    "model.add(Dense(units=512,activation='relu'))\n",
    "model.add(Dropout(0.3))\n",
    "model.add(Dense(units=24,activation='softmax'))"
   ]
  },
  {
   "cell_type": "markdown",
   "id": "773437d9",
   "metadata": {},
   "source": [
    "### Compile Model"
   ]
  },
  {
   "cell_type": "code",
   "execution_count": 31,
   "id": "b6693481",
   "metadata": {},
   "outputs": [],
   "source": [
    "model.compile(optimizer='adam', loss='categorical_crossentropy', metrics=['accuracy'])"
   ]
  },
  {
   "cell_type": "code",
   "execution_count": 32,
   "id": "15c338f2",
   "metadata": {},
   "outputs": [],
   "source": [
    "# Ser Learning Rate\n",
    "\n",
    "learning_rate_reduction = ReduceLROnPlateau(monitor='val_accuracy', patience=2, verbose=1, factor=0.5, min_lr = 0.00001)"
   ]
  },
  {
   "cell_type": "markdown",
   "id": "44953acb",
   "metadata": {},
   "source": [
    "### Train Model"
   ]
  },
  {
   "cell_type": "code",
   "execution_count": 33,
   "id": "b3baef73",
   "metadata": {},
   "outputs": [
    {
     "name": "stdout",
     "output_type": "stream",
     "text": [
      "Epoch 1/20\n",
      "215/215 [==============================] - 103s 309ms/step - loss: 1.7607 - accuracy: 0.4760 - val_loss: 4.1925 - val_accuracy: 0.0947\n",
      "Epoch 2/20\n",
      "215/215 [==============================] - 65s 303ms/step - loss: 0.2520 - accuracy: 0.9153 - val_loss: 1.2401 - val_accuracy: 0.5818\n",
      "Epoch 3/20\n",
      "215/215 [==============================] - 65s 304ms/step - loss: 0.1256 - accuracy: 0.9584 - val_loss: 0.0821 - val_accuracy: 0.9833\n",
      "Epoch 4/20\n",
      "215/215 [==============================] - 65s 301ms/step - loss: 0.0649 - accuracy: 0.9792 - val_loss: 0.1690 - val_accuracy: 0.9417\n",
      "Epoch 5/20\n",
      "215/215 [==============================] - 64s 300ms/step - loss: 0.0485 - accuracy: 0.9844 - val_loss: 0.0960 - val_accuracy: 0.9603\n",
      "\n",
      "Epoch 00005: ReduceLROnPlateau reducing learning rate to 0.0005000000237487257.\n",
      "Epoch 6/20\n",
      "215/215 [==============================] - 59s 272ms/step - loss: 0.0268 - accuracy: 0.9923 - val_loss: 0.0171 - val_accuracy: 0.9940\n",
      "Epoch 7/20\n",
      "215/215 [==============================] - 54s 250ms/step - loss: 0.0193 - accuracy: 0.9948 - val_loss: 0.0033 - val_accuracy: 0.9997\n",
      "Epoch 8/20\n",
      "215/215 [==============================] - 56s 261ms/step - loss: 0.0182 - accuracy: 0.9947 - val_loss: 0.0086 - val_accuracy: 0.9993\n",
      "Epoch 9/20\n",
      "215/215 [==============================] - 80s 371ms/step - loss: 0.0187 - accuracy: 0.9941 - val_loss: 0.0029 - val_accuracy: 0.9999\n",
      "Epoch 10/20\n",
      "215/215 [==============================] - 75s 347ms/step - loss: 0.0140 - accuracy: 0.9956 - val_loss: 0.0033 - val_accuracy: 0.9993\n",
      "Epoch 11/20\n",
      "215/215 [==============================] - 72s 334ms/step - loss: 0.0143 - accuracy: 0.9960 - val_loss: 0.0291 - val_accuracy: 0.9887\n",
      "\n",
      "Epoch 00011: ReduceLROnPlateau reducing learning rate to 0.0002500000118743628.\n",
      "Epoch 12/20\n",
      "215/215 [==============================] - 70s 324ms/step - loss: 0.0098 - accuracy: 0.9973 - val_loss: 0.0044 - val_accuracy: 0.9999\n",
      "Epoch 13/20\n",
      "215/215 [==============================] - 68s 314ms/step - loss: 0.0066 - accuracy: 0.9984 - val_loss: 0.0038 - val_accuracy: 0.9996\n",
      "\n",
      "Epoch 00013: ReduceLROnPlateau reducing learning rate to 0.0001250000059371814.\n",
      "Epoch 14/20\n",
      "215/215 [==============================] - 69s 319ms/step - loss: 0.0066 - accuracy: 0.9982 - val_loss: 0.0022 - val_accuracy: 0.9997\n",
      "Epoch 15/20\n",
      "215/215 [==============================] - 67s 311ms/step - loss: 0.0075 - accuracy: 0.9982 - val_loss: 0.0018 - val_accuracy: 0.9999\n",
      "\n",
      "Epoch 00015: ReduceLROnPlateau reducing learning rate to 6.25000029685907e-05.\n",
      "Epoch 16/20\n",
      "215/215 [==============================] - 61s 285ms/step - loss: 0.0052 - accuracy: 0.9990 - val_loss: 8.0125e-04 - val_accuracy: 1.0000\n",
      "Epoch 17/20\n",
      "215/215 [==============================] - 55s 258ms/step - loss: 0.0050 - accuracy: 0.9989 - val_loss: 9.4359e-04 - val_accuracy: 1.0000\n",
      "Epoch 18/20\n",
      "215/215 [==============================] - 54s 250ms/step - loss: 0.0056 - accuracy: 0.9985 - val_loss: 0.0011 - val_accuracy: 0.9999\n",
      "\n",
      "Epoch 00018: ReduceLROnPlateau reducing learning rate to 3.125000148429535e-05.\n",
      "Epoch 19/20\n",
      "215/215 [==============================] - 53s 247ms/step - loss: 0.0054 - accuracy: 0.9988 - val_loss: 0.0011 - val_accuracy: 1.0000\n",
      "Epoch 20/20\n",
      "215/215 [==============================] - 53s 246ms/step - loss: 0.0041 - accuracy: 0.9992 - val_loss: 6.3668e-04 - val_accuracy: 1.0000\n",
      "\n",
      "Epoch 00020: ReduceLROnPlateau reducing learning rate to 1.5625000742147677e-05.\n"
     ]
    },
    {
     "data": {
      "text/plain": [
       "<keras.callbacks.History at 0x2cde654ed90>"
      ]
     },
     "execution_count": 33,
     "metadata": {},
     "output_type": "execute_result"
    }
   ],
   "source": [
    "model.fit(data_generator.flow(x_train, y_train, batch_size = 128), epochs = 20, validation_data = (x_test, y_test), callbacks = [learning_rate_reduction])"
   ]
  },
  {
   "cell_type": "code",
   "execution_count": 34,
   "id": "e138b25c",
   "metadata": {},
   "outputs": [
    {
     "name": "stdout",
     "output_type": "stream",
     "text": [
      "225/225 [==============================] - 4s 16ms/step - loss: 6.3668e-04 - accuracy: 1.0000\n"
     ]
    },
    {
     "data": {
      "text/plain": [
       "[0.0006366824964061379, 1.0]"
      ]
     },
     "execution_count": 34,
     "metadata": {},
     "output_type": "execute_result"
    }
   ],
   "source": [
    "# Check Accuracy\n",
    "\n",
    "model.evaluate(x_test, y_test)"
   ]
  },
  {
   "cell_type": "markdown",
   "id": "3cd52972",
   "metadata": {},
   "source": [
    "### Prediction Obtain"
   ]
  },
  {
   "cell_type": "code",
   "execution_count": 35,
   "id": "2bde4c6d",
   "metadata": {},
   "outputs": [
    {
     "name": "stderr",
     "output_type": "stream",
     "text": [
      "c:\\users\\nasir khan\\appdata\\local\\programs\\python\\python39\\lib\\site-packages\\keras\\engine\\sequential.py:450: UserWarning: `model.predict_classes()` is deprecated and will be removed after 2021-01-01. Please use instead:* `np.argmax(model.predict(x), axis=-1)`,   if your model does multi-class classification   (e.g. if it uses a `softmax` last-layer activation).* `(model.predict(x) > 0.5).astype(\"int32\")`,   if your model does binary classification   (e.g. if it uses a `sigmoid` last-layer activation).\n",
      "  warnings.warn('`model.predict_classes()` is deprecated and '\n"
     ]
    },
    {
     "data": {
      "text/plain": [
       "array([ 6,  5, 10,  0,  3], dtype=int64)"
      ]
     },
     "execution_count": 35,
     "metadata": {},
     "output_type": "execute_result"
    }
   ],
   "source": [
    "predictions = model.predict_classes(x_test)\n",
    "\n",
    "for i in range(len(predictions)):\n",
    "    if (predictions[i]>=9 or predictions[i]>=25):\n",
    "        predictions[i]+=1\n",
    "predictions[:5]"
   ]
  },
  {
   "cell_type": "markdown",
   "id": "5474af1f",
   "metadata": {},
   "source": [
    "### Save Model"
   ]
  },
  {
   "cell_type": "code",
   "execution_count": 36,
   "id": "31b6ccad",
   "metadata": {},
   "outputs": [],
   "source": [
    "model.save(\"Hand_Gesture_Recognition.h5\")"
   ]
  },
  {
   "cell_type": "code",
   "execution_count": null,
   "id": "4dae13d2",
   "metadata": {},
   "outputs": [],
   "source": []
  }
 ],
 "metadata": {
  "kernelspec": {
   "display_name": "Python 3 (ipykernel)",
   "language": "python",
   "name": "python3"
  },
  "language_info": {
   "codemirror_mode": {
    "name": "ipython",
    "version": 3
   },
   "file_extension": ".py",
   "mimetype": "text/x-python",
   "name": "python",
   "nbconvert_exporter": "python",
   "pygments_lexer": "ipython3",
   "version": "3.9.6"
  }
 },
 "nbformat": 4,
 "nbformat_minor": 5
}
